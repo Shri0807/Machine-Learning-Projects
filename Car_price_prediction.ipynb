{
  "nbformat": 4,
  "nbformat_minor": 0,
  "metadata": {
    "colab": {
      "name": "Car price prediction.ipynb",
      "provenance": [],
      "toc_visible": true,
      "authorship_tag": "ABX9TyOUW1+o+kcICqWCRnG4Qyl5",
      "include_colab_link": true
    },
    "kernelspec": {
      "name": "python3",
      "display_name": "Python 3"
    }
  },
  "cells": [
    {
      "cell_type": "markdown",
      "metadata": {
        "id": "view-in-github",
        "colab_type": "text"
      },
      "source": [
        "<a href=\"https://colab.research.google.com/github/Shri0807/Machine-Learning-Projects/blob/Regression/Car_price_prediction.ipynb\" target=\"_parent\"><img src=\"https://colab.research.google.com/assets/colab-badge.svg\" alt=\"Open In Colab\"/></a>"
      ]
    },
    {
      "cell_type": "markdown",
      "metadata": {
        "id": "GVynXd9RiOmM",
        "colab_type": "text"
      },
      "source": [
        "# Importing the libraries\n"
      ]
    },
    {
      "cell_type": "code",
      "metadata": {
        "id": "qB-rIqkUiQ2n",
        "colab_type": "code",
        "colab": {}
      },
      "source": [
        "import numpy as np\n",
        "import matplotlib.pyplot as plt\n",
        "import pandas as pd"
      ],
      "execution_count": null,
      "outputs": []
    },
    {
      "cell_type": "markdown",
      "metadata": {
        "id": "Z5kRRG5LiV5Z",
        "colab_type": "text"
      },
      "source": [
        "# Importing the dataset\n"
      ]
    },
    {
      "cell_type": "code",
      "metadata": {
        "id": "kd8k2Wc1iX9L",
        "colab_type": "code",
        "colab": {}
      },
      "source": [
        "dataset = pd.read_csv('car data.csv')\n",
        "X = dataset.iloc[:, [3, 4, 6, 7, 8]].values\n",
        "y = dataset.iloc[:, 2].values"
      ],
      "execution_count": null,
      "outputs": []
    },
    {
      "cell_type": "code",
      "metadata": {
        "id": "KrYLob0CjlMP",
        "colab_type": "code",
        "colab": {
          "base_uri": "https://localhost:8080/",
          "height": 134
        },
        "outputId": "d87be2ed-4952-4574-fc2a-52313b5af23b"
      },
      "source": [
        "print(X)"
      ],
      "execution_count": null,
      "outputs": [
        {
          "output_type": "stream",
          "text": [
            "[[5.59 27000 'Dealer' 'Manual' 0]\n",
            " [9.54 43000 'Dealer' 'Manual' 0]\n",
            " [9.85 6900 'Dealer' 'Manual' 0]\n",
            " ...\n",
            " [11.0 87934 'Dealer' 'Manual' 0]\n",
            " [12.5 9000 'Dealer' 'Manual' 0]\n",
            " [5.9 5464 'Dealer' 'Manual' 0]]\n"
          ],
          "name": "stdout"
        }
      ]
    },
    {
      "cell_type": "code",
      "metadata": {
        "id": "mh9qJ1WZjmrN",
        "colab_type": "code",
        "colab": {
          "base_uri": "https://localhost:8080/",
          "height": 454
        },
        "outputId": "2107ac52-cdba-41b4-81d9-8469c2e4cc63"
      },
      "source": [
        "print(y)"
      ],
      "execution_count": null,
      "outputs": [
        {
          "output_type": "stream",
          "text": [
            "[ 3.35  4.75  7.25  2.85  4.6   9.25  6.75  6.5   8.75  7.45  2.85  6.85\n",
            "  7.5   6.1   2.25  7.75  7.25  7.75  3.25  2.65  2.85  4.9   4.4   2.5\n",
            "  2.9   3.    4.15  6.    1.95  7.45  3.1   2.35  4.95  6.    5.5   2.95\n",
            "  4.65  0.35  3.    2.25  5.85  2.55  1.95  5.5   1.25  7.5   2.65  1.05\n",
            "  5.8   7.75 14.9  23.   18.   16.    2.75  3.6   4.5   4.75  4.1  19.99\n",
            "  6.95  4.5  18.75 23.5  33.    4.75 19.75  9.25  4.35 14.25  3.95  4.5\n",
            "  7.45  2.65  4.9   3.95  5.5   1.5   5.25 14.5  14.73  4.75 23.   12.5\n",
            "  3.49  2.5  35.    5.9   3.45  4.75  3.8  11.25  3.51 23.    4.    5.85\n",
            " 20.75 17.    7.05  9.65  1.75  1.7   1.65  1.45  1.35  1.35  1.35  1.25\n",
            "  1.2   1.2   1.2   1.15  1.15  1.15  1.15  1.11  1.1   1.1   1.1   1.05\n",
            "  1.05  1.05  1.05  1.    0.95  0.9   0.9   0.75  0.8   0.78  0.75  0.75\n",
            "  0.75  0.72  0.65  0.65  0.65  0.65  0.6   0.6   0.6   0.6   0.6   0.6\n",
            "  0.6   0.6   0.55  0.55  0.52  0.51  0.5   0.5   0.5   0.5   0.5   0.48\n",
            "  0.48  0.48  0.48  0.45  0.45  0.45  0.45  0.45  0.45  0.45  0.45  0.42\n",
            "  0.42  0.4   0.4   0.4   0.4   0.4   0.38  0.38  0.35  0.35  0.35  0.31\n",
            "  0.3   0.3   0.3   0.27  0.25  0.25  0.25  0.25  0.25  0.2   0.2   0.2\n",
            "  0.2   0.2   0.2   0.18  0.17  0.16  0.15  0.12  0.1   3.25  4.4   2.95\n",
            "  2.75  5.25  5.75  5.15  7.9   4.85  3.1  11.75 11.25  2.9   5.25  4.5\n",
            "  2.9   3.15  6.45  4.5   3.5   4.5   6.    8.25  5.11  2.7   5.25  2.55\n",
            "  4.95  3.1   6.15  9.25 11.45  3.9   5.5   9.1   3.1  11.25  4.8   2.\n",
            "  5.35  4.75  4.4   6.25  5.95  5.2   3.75  5.95  4.    5.25 12.9   5.\n",
            "  5.4   7.2   5.25  3.   10.25  8.5   8.4   3.9   9.15  5.5   4.    6.6\n",
            "  4.    6.5   3.65  8.35  4.8   6.7   4.1   3.    7.5   2.25  5.3  10.9\n",
            "  8.65  9.7   6.    6.25  5.25  2.1   8.25  8.99  3.5   7.4   5.65  5.75\n",
            "  8.4  10.11  4.5   5.4   6.4   3.25  3.75  8.55  9.5   4.    3.35 11.5\n",
            "  5.3 ]\n"
          ],
          "name": "stdout"
        }
      ]
    },
    {
      "cell_type": "markdown",
      "metadata": {
        "id": "i8x9543IkZPj",
        "colab_type": "text"
      },
      "source": [
        "# Encoding categorical data"
      ]
    },
    {
      "cell_type": "code",
      "metadata": {
        "id": "sXMOiUebkdUJ",
        "colab_type": "code",
        "colab": {}
      },
      "source": [
        "from sklearn.compose import ColumnTransformer\n",
        "from sklearn.preprocessing import OneHotEncoder\n",
        "ct = ColumnTransformer(transformers=[('encoder', OneHotEncoder(), [2, 3])], remainder='passthrough')\n",
        "X = np.array(ct.fit_transform(X))"
      ],
      "execution_count": null,
      "outputs": []
    },
    {
      "cell_type": "code",
      "metadata": {
        "id": "YWNe6EygmF1r",
        "colab_type": "code",
        "colab": {
          "base_uri": "https://localhost:8080/",
          "height": 134
        },
        "outputId": "c460e8b4-fa1b-4d08-e17f-10ffe8464ce6"
      },
      "source": [
        "print(X)"
      ],
      "execution_count": null,
      "outputs": [
        {
          "output_type": "stream",
          "text": [
            "[[1.0 0.0 0.0 ... 5.59 27000 0]\n",
            " [1.0 0.0 0.0 ... 9.54 43000 0]\n",
            " [1.0 0.0 0.0 ... 9.85 6900 0]\n",
            " ...\n",
            " [1.0 0.0 0.0 ... 11.0 87934 0]\n",
            " [1.0 0.0 0.0 ... 12.5 9000 0]\n",
            " [1.0 0.0 0.0 ... 5.9 5464 0]]\n"
          ],
          "name": "stdout"
        }
      ]
    },
    {
      "cell_type": "markdown",
      "metadata": {
        "id": "2kbztwg9mTtA",
        "colab_type": "text"
      },
      "source": [
        "# Splitting the dataset into the Training set and Test set\n"
      ]
    },
    {
      "cell_type": "code",
      "metadata": {
        "id": "qq1DUCW-mXWv",
        "colab_type": "code",
        "colab": {}
      },
      "source": [
        "from sklearn.model_selection import train_test_split\n",
        "X_train, X_test, y_train, y_test = train_test_split(X, y, test_size = 0.2, random_state = 1)"
      ],
      "execution_count": null,
      "outputs": []
    },
    {
      "cell_type": "code",
      "metadata": {
        "id": "verIWgSCmbvp",
        "colab_type": "code",
        "colab": {
          "base_uri": "https://localhost:8080/",
          "height": 134
        },
        "outputId": "24ac98d2-d97b-4f29-8bb5-d4950266ed36"
      },
      "source": [
        "print(X_train)\n"
      ],
      "execution_count": null,
      "outputs": [
        {
          "output_type": "stream",
          "text": [
            "[[0.0 1.0 0.0 ... 1.78 4000 0]\n",
            " [1.0 0.0 0.0 ... 14.89 23000 0]\n",
            " [1.0 0.0 0.0 ... 9.4 71000 0]\n",
            " ...\n",
            " [1.0 0.0 0.0 ... 18.61 56001 0]\n",
            " [1.0 0.0 0.0 ... 9.4 15141 0]\n",
            " [0.0 1.0 0.0 ... 2.28 127000 0]]\n"
          ],
          "name": "stdout"
        }
      ]
    },
    {
      "cell_type": "code",
      "metadata": {
        "id": "yBb2rUevme4P",
        "colab_type": "code",
        "colab": {
          "base_uri": "https://localhost:8080/",
          "height": 1000
        },
        "outputId": "eebdbc1a-1b1c-4861-9127-480b8e173962"
      },
      "source": [
        "print(X_test)"
      ],
      "execution_count": null,
      "outputs": [
        {
          "output_type": "stream",
          "text": [
            "[[1.0 0.0 1.0 0.0 8.5 15059 0]\n",
            " [1.0 0.0 0.0 1.0 4.6 30000 0]\n",
            " [0.0 1.0 0.0 1.0 0.826 6000 0]\n",
            " [1.0 0.0 0.0 1.0 4.43 15000 0]\n",
            " [0.0 1.0 0.0 1.0 1.5 15000 0]\n",
            " [1.0 0.0 0.0 1.0 7.13 12479 0]\n",
            " [0.0 1.0 0.0 1.0 0.95 3500 0]\n",
            " [1.0 0.0 0.0 1.0 5.71 43000 0]\n",
            " [1.0 0.0 0.0 1.0 13.6 34000 0]\n",
            " [0.0 1.0 0.0 1.0 0.84 23000 0]\n",
            " [1.0 0.0 0.0 1.0 9.4 19434 0]\n",
            " [1.0 0.0 0.0 1.0 6.05 47000 0]\n",
            " [1.0 0.0 0.0 1.0 5.9 5464 0]\n",
            " [1.0 0.0 0.0 1.0 6.8 39485 1]\n",
            " [0.0 1.0 0.0 1.0 0.75 49000 1]\n",
            " [0.0 1.0 1.0 0.0 0.57 24000 0]\n",
            " [1.0 0.0 0.0 1.0 10.38 51000 0]\n",
            " [1.0 0.0 0.0 1.0 9.4 45000 0]\n",
            " [1.0 0.0 1.0 0.0 9.4 36198 0]\n",
            " [1.0 0.0 0.0 1.0 10.38 45000 0]\n",
            " [0.0 1.0 0.0 1.0 6.49 16200 0]\n",
            " [1.0 0.0 0.0 1.0 9.9 38000 0]\n",
            " [1.0 0.0 1.0 0.0 22.83 80000 0]\n",
            " [1.0 0.0 1.0 0.0 9.94 15000 0]\n",
            " [0.0 1.0 1.0 0.0 23.73 142000 3]\n",
            " [1.0 0.0 0.0 1.0 5.09 35500 0]\n",
            " [1.0 0.0 0.0 1.0 11.0 87934 0]\n",
            " [0.0 1.0 0.0 1.0 0.95 16600 0]\n",
            " [0.0 1.0 0.0 1.0 0.51 60000 0]\n",
            " [0.0 1.0 0.0 1.0 1.05 30000 0]\n",
            " [0.0 1.0 0.0 1.0 0.58 30000 0]\n",
            " [0.0 1.0 0.0 1.0 0.51 33000 0]\n",
            " [1.0 0.0 0.0 1.0 5.7 28200 0]\n",
            " [1.0 0.0 1.0 0.0 35.96 41000 0]\n",
            " [1.0 0.0 1.0 0.0 30.61 40000 0]\n",
            " [1.0 0.0 0.0 1.0 6.76 40000 0]\n",
            " [1.0 0.0 0.0 1.0 6.79 35000 0]\n",
            " [0.0 1.0 0.0 1.0 1.26 5700 0]\n",
            " [0.0 1.0 0.0 1.0 0.57 25000 1]\n",
            " [1.0 0.0 1.0 0.0 6.79 32000 0]\n",
            " [1.0 0.0 0.0 1.0 13.6 49562 0]\n",
            " [1.0 0.0 0.0 1.0 13.6 35934 0]\n",
            " [0.0 1.0 0.0 1.0 0.65 24000 1]\n",
            " [1.0 0.0 0.0 1.0 6.87 42450 0]\n",
            " [1.0 0.0 0.0 1.0 6.76 71000 0]\n",
            " [1.0 0.0 0.0 1.0 6.8 33019 0]\n",
            " [1.0 0.0 0.0 1.0 9.9 48000 0]\n",
            " [1.0 0.0 0.0 1.0 9.4 36000 0]\n",
            " [1.0 0.0 0.0 1.0 10.79 41678 0]\n",
            " [0.0 1.0 0.0 1.0 2.37 21700 0]\n",
            " [1.0 0.0 0.0 1.0 5.59 27000 0]\n",
            " [0.0 1.0 0.0 1.0 0.54 8600 0]\n",
            " [1.0 0.0 0.0 1.0 4.43 23709 0]\n",
            " [1.0 0.0 0.0 1.0 5.9 60000 0]\n",
            " [0.0 1.0 0.0 1.0 1.9 14000 0]\n",
            " [0.0 1.0 0.0 1.0 0.57 55000 0]\n",
            " [1.0 0.0 1.0 0.0 35.96 78000 0]\n",
            " [0.0 1.0 0.0 1.0 0.88 8000 0]\n",
            " [1.0 0.0 0.0 1.0 9.4 45078 0]\n",
            " [1.0 0.0 0.0 1.0 7.9 28569 0]\n",
            " [0.0 1.0 1.0 0.0 0.52 22000 0]]\n"
          ],
          "name": "stdout"
        }
      ]
    },
    {
      "cell_type": "markdown",
      "metadata": {
        "id": "xZ2aHMMcwc7V",
        "colab_type": "text"
      },
      "source": [
        "# Evaluating Model"
      ]
    },
    {
      "cell_type": "code",
      "metadata": {
        "id": "H-6SLJvgwf9l",
        "colab_type": "code",
        "colab": {}
      },
      "source": [
        "from sklearn.metrics import r2_score\n",
        "from sklearn.model_selection import cross_val_score"
      ],
      "execution_count": null,
      "outputs": []
    },
    {
      "cell_type": "code",
      "metadata": {
        "id": "aPFtI7Wpwqpr",
        "colab_type": "code",
        "colab": {}
      },
      "source": [
        "cv=5 # CV value\n",
        "r_2 = [] # List for r 2 score\n",
        "CV = [] # list for CV scores mean\n",
        "def model(algorithm, X_train, y_train, X_test, y_test): \n",
        "  algorithm.fit(X_train, y_train)\n",
        "  predicts=algorithm.predict(X_test)\n",
        "  prediction=pd.DataFrame(predicts)\n",
        "  R_2=r2_score(y_test,prediction)\n",
        "  cross_val=cross_val_score(algorithm, X_train, y_train, cv=cv)\n",
        "  r_2.append(R_2)\n",
        "  CV.append(cross_val.mean())\n",
        "\n",
        "  #Printing results\n",
        "  print(algorithm,\"\\n\") \n",
        "  print(\"r_2 score :\",R_2,\"\\n\")\n",
        "  print(\"CV scores:\",cross_val,\"\\n\")\n",
        "  print(\"CV scores mean:\",cross_val.mean())\n",
        "\n"
      ],
      "execution_count": null,
      "outputs": []
    },
    {
      "cell_type": "markdown",
      "metadata": {
        "id": "MRSZZageyOSq",
        "colab_type": "text"
      },
      "source": [
        "# Linear Regression"
      ]
    },
    {
      "cell_type": "code",
      "metadata": {
        "id": "gS5cbR7YyRg4",
        "colab_type": "code",
        "colab": {
          "base_uri": "https://localhost:8080/",
          "height": 134
        },
        "outputId": "48f6085a-62ff-4281-b778-71bf4b461aab"
      },
      "source": [
        "from sklearn.linear_model import LinearRegression\n",
        "lr = LinearRegression()\n",
        "model(lr, X_train, y_train, X_test, y_test)"
      ],
      "execution_count": null,
      "outputs": [
        {
          "output_type": "stream",
          "text": [
            "LinearRegression(copy_X=True, fit_intercept=True, n_jobs=None, normalize=False) \n",
            "\n",
            "r_2 score : -55853383.05414573 \n",
            "\n",
            "CV scores: [0.78801622 0.86008917 0.75811856 0.72118347 0.57618044] \n",
            "\n",
            "CV scores mean: 0.740717570850423\n"
          ],
          "name": "stdout"
        }
      ]
    },
    {
      "cell_type": "markdown",
      "metadata": {
        "id": "wL49a7LDyfxw",
        "colab_type": "text"
      },
      "source": [
        "# Decision Tree Regression"
      ]
    },
    {
      "cell_type": "code",
      "metadata": {
        "id": "u3qxWdY0yjqL",
        "colab_type": "code",
        "colab": {
          "base_uri": "https://localhost:8080/",
          "height": 218
        },
        "outputId": "c962b95e-7db0-447c-ffd8-5155c53228f8"
      },
      "source": [
        "from sklearn.tree import DecisionTreeRegressor\n",
        "dtr = DecisionTreeRegressor(random_state = 0)\n",
        "model(dtr, X_train, y_train, X_test, y_test)"
      ],
      "execution_count": null,
      "outputs": [
        {
          "output_type": "stream",
          "text": [
            "DecisionTreeRegressor(ccp_alpha=0.0, criterion='mse', max_depth=None,\n",
            "                      max_features=None, max_leaf_nodes=None,\n",
            "                      min_impurity_decrease=0.0, min_impurity_split=None,\n",
            "                      min_samples_leaf=1, min_samples_split=2,\n",
            "                      min_weight_fraction_leaf=0.0, presort='deprecated',\n",
            "                      random_state=0, splitter='best') \n",
            "\n",
            "r_2 score : -25.22630828270423 \n",
            "\n",
            "CV scores: [0.71987812 0.80134063 0.73724592 0.8224063  0.6977806 ] \n",
            "\n",
            "CV scores mean: 0.7557303111638612\n"
          ],
          "name": "stdout"
        }
      ]
    },
    {
      "cell_type": "markdown",
      "metadata": {
        "id": "4zC6lzcSz9pM",
        "colab_type": "text"
      },
      "source": [
        "# Random Forest Regression "
      ]
    },
    {
      "cell_type": "code",
      "metadata": {
        "id": "lFDvn7qn0CPO",
        "colab_type": "code",
        "colab": {
          "base_uri": "https://localhost:8080/",
          "height": 235
        },
        "outputId": "cff49ac7-4dc1-4e97-e06c-9419f030d6c2"
      },
      "source": [
        "from sklearn.ensemble import RandomForestRegressor\n",
        "rfr = RandomForestRegressor(n_estimators = 10, random_state = 0)\n",
        "model(rfr, X_train, y_train, X_test, y_test)"
      ],
      "execution_count": null,
      "outputs": [
        {
          "output_type": "stream",
          "text": [
            "RandomForestRegressor(bootstrap=True, ccp_alpha=0.0, criterion='mse',\n",
            "                      max_depth=None, max_features='auto', max_leaf_nodes=None,\n",
            "                      max_samples=None, min_impurity_decrease=0.0,\n",
            "                      min_impurity_split=None, min_samples_leaf=1,\n",
            "                      min_samples_split=2, min_weight_fraction_leaf=0.0,\n",
            "                      n_estimators=10, n_jobs=None, oob_score=False,\n",
            "                      random_state=0, verbose=0, warm_start=False) \n",
            "\n",
            "r_2 score : -17.38765777185127 \n",
            "\n",
            "CV scores: [0.84991939 0.90872404 0.8330694  0.83161336 0.74038601] \n",
            "\n",
            "CV scores mean: 0.8327424366258274\n"
          ],
          "name": "stdout"
        }
      ]
    },
    {
      "cell_type": "markdown",
      "metadata": {
        "id": "7OnjX98w2uYB",
        "colab_type": "text"
      },
      "source": [
        "# Support Vector Regression"
      ]
    },
    {
      "cell_type": "code",
      "metadata": {
        "id": "49eCXuyo2yc9",
        "colab_type": "code",
        "colab": {}
      },
      "source": [
        "y = y.reshape(len(y),1)\n",
        "\n",
        "#Feature Scaling\n",
        "from sklearn.preprocessing import StandardScaler\n",
        "sc_X = StandardScaler()\n",
        "sc_y = StandardScaler()\n",
        "X_train = sc_X.fit_transform(X_train)\n",
        "#y_train = sc_y.fit_transform(y_train)\n"
      ],
      "execution_count": null,
      "outputs": []
    },
    {
      "cell_type": "code",
      "metadata": {
        "id": "Z4-8-BQw299Z",
        "colab_type": "code",
        "colab": {
          "base_uri": "https://localhost:8080/",
          "height": 151
        },
        "outputId": "8fa63b6c-e67b-427a-85b1-06b686fc0bc4"
      },
      "source": [
        "from sklearn.svm import SVR\n",
        "svr = SVR(kernel = 'rbf')\n",
        "model(svr, X_train, y_train, X_test, y_test)"
      ],
      "execution_count": null,
      "outputs": [
        {
          "output_type": "stream",
          "text": [
            "SVR(C=1.0, cache_size=200, coef0=0.0, degree=3, epsilon=0.1, gamma='scale',\n",
            "    kernel='rbf', max_iter=-1, shrinking=True, tol=0.001, verbose=False) \n",
            "\n",
            "r_2 score : -0.015439809708707841 \n",
            "\n",
            "CV scores: [0.75383893 0.46496808 0.64663418 0.73448926 0.20729709] \n",
            "\n",
            "CV scores mean: 0.5614455084594356\n"
          ],
          "name": "stdout"
        }
      ]
    }
  ]
}