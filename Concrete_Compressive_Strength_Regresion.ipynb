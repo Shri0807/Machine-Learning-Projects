{
  "nbformat": 4,
  "nbformat_minor": 0,
  "metadata": {
    "colab": {
      "name": "Concrete Compressive Strength Regresion.ipynb",
      "provenance": [],
      "collapsed_sections": [],
      "authorship_tag": "ABX9TyNbu+ID1Y2NkFNl00mvHWm1",
      "include_colab_link": true
    },
    "kernelspec": {
      "name": "python3",
      "display_name": "Python 3"
    }
  },
  "cells": [
    {
      "cell_type": "markdown",
      "metadata": {
        "id": "view-in-github",
        "colab_type": "text"
      },
      "source": [
        "<a href=\"https://colab.research.google.com/github/Shri0807/Machine-Learning-Projects/blob/Regression/Concrete_Compressive_Strength_Regresion.ipynb\" target=\"_parent\"><img src=\"https://colab.research.google.com/assets/colab-badge.svg\" alt=\"Open In Colab\"/></a>"
      ]
    },
    {
      "cell_type": "markdown",
      "metadata": {
        "id": "cqtq-UrSwVls",
        "colab_type": "text"
      },
      "source": [
        "# Importing Libraries\n"
      ]
    },
    {
      "cell_type": "code",
      "metadata": {
        "id": "ahGH4c19wYnK",
        "colab_type": "code",
        "colab": {}
      },
      "source": [
        "import numpy as np\n",
        "import matplotlib.pyplot as plt\n",
        "import pandas as pd"
      ],
      "execution_count": 1,
      "outputs": []
    },
    {
      "cell_type": "markdown",
      "metadata": {
        "id": "kgpLXKhbwoyd",
        "colab_type": "text"
      },
      "source": [
        "# Importing the dataset"
      ]
    },
    {
      "cell_type": "code",
      "metadata": {
        "id": "Pn6kbkONwsg7",
        "colab_type": "code",
        "colab": {}
      },
      "source": [
        "dataset = pd.read_csv('Concrete_Data.csv')\n",
        "X = dataset.iloc[:, :-1].values\n",
        "y = dataset.iloc[:, -1].values"
      ],
      "execution_count": 2,
      "outputs": []
    },
    {
      "cell_type": "code",
      "metadata": {
        "id": "FB0kk35jxF9a",
        "colab_type": "code",
        "colab": {
          "base_uri": "https://localhost:8080/",
          "height": 134
        },
        "outputId": "e36e7bbb-a30d-4d83-9d36-483f1f7dc8e8"
      },
      "source": [
        "print(X)"
      ],
      "execution_count": 3,
      "outputs": [
        {
          "output_type": "stream",
          "text": [
            "[[ 540.     0.     0.  ... 1040.   676.    28. ]\n",
            " [ 540.     0.     0.  ... 1055.   676.    28. ]\n",
            " [ 332.5  142.5    0.  ...  932.   594.   270. ]\n",
            " ...\n",
            " [ 148.5  139.4  108.6 ...  892.4  780.    28. ]\n",
            " [ 159.1  186.7    0.  ...  989.6  788.9   28. ]\n",
            " [ 260.9  100.5   78.3 ...  864.5  761.5   28. ]]\n"
          ],
          "name": "stdout"
        }
      ]
    },
    {
      "cell_type": "code",
      "metadata": {
        "id": "Aj1u6XocxHYF",
        "colab_type": "code",
        "colab": {
          "base_uri": "https://localhost:8080/",
          "height": 34
        },
        "outputId": "977274d7-e7cc-49fa-d5f5-aae9e9c74479"
      },
      "source": [
        "print(y)"
      ],
      "execution_count": 4,
      "outputs": [
        {
          "output_type": "stream",
          "text": [
            "[79.99 61.89 40.27 ... 23.7  32.77 32.4 ]\n"
          ],
          "name": "stdout"
        }
      ]
    },
    {
      "cell_type": "markdown",
      "metadata": {
        "id": "_TgfbHjdxifx",
        "colab_type": "text"
      },
      "source": [
        "# Splitting the dataset into the Training set and Test set"
      ]
    },
    {
      "cell_type": "code",
      "metadata": {
        "id": "IPSxGFsOxwSI",
        "colab_type": "code",
        "colab": {}
      },
      "source": [
        "from sklearn.model_selection import train_test_split\n",
        "X_train, X_test, y_train, y_test = train_test_split(X, y, test_size = 0.2, random_state = 1)"
      ],
      "execution_count": 5,
      "outputs": []
    },
    {
      "cell_type": "markdown",
      "metadata": {
        "id": "WxM_RolgyC7g",
        "colab_type": "text"
      },
      "source": [
        "# Feature Scaling"
      ]
    },
    {
      "cell_type": "code",
      "metadata": {
        "id": "P-TQirhIyF1y",
        "colab_type": "code",
        "colab": {}
      },
      "source": [
        "from sklearn.preprocessing import StandardScaler\n",
        "sc = StandardScaler()\n",
        "X_train = sc.fit_transform(X_train)\n",
        "X_test = sc.fit_transform(X_test)\n"
      ],
      "execution_count": 6,
      "outputs": []
    },
    {
      "cell_type": "code",
      "metadata": {
        "id": "0GolS_oZy5QG",
        "colab_type": "code",
        "colab": {
          "base_uri": "https://localhost:8080/",
          "height": 235
        },
        "outputId": "acda4038-13b5-404a-af4d-7e4a1a2fdfa7"
      },
      "source": [
        "print(X_train)"
      ],
      "execution_count": 7,
      "outputs": [
        {
          "output_type": "stream",
          "text": [
            "[[-0.0246031  -0.83693716 -0.84929436 ... -0.07197991  1.01032248\n",
            "  -0.27431532]\n",
            " [ 0.76068784 -0.61436503  1.34584119 ... -0.40832258  0.307869\n",
            "  -0.68721139]\n",
            " [-0.06482532  1.2938981  -0.84929436 ...  0.50238989 -0.79945314\n",
            "  -0.27431532]\n",
            " ...\n",
            " [-1.32416385  1.6464992  -0.84929436 ... -0.02282213 -0.36265479\n",
            "   0.74966693]\n",
            " [-1.38449718 -0.83693716  1.73504962 ... -0.1625337   0.35895652\n",
            "  -0.27431532]\n",
            " [-0.62985173  0.31223787 -0.4678701  ...  1.19577325  0.10990483\n",
            "  -0.50553712]]\n"
          ],
          "name": "stdout"
        }
      ]
    },
    {
      "cell_type": "code",
      "metadata": {
        "id": "ddMsSfzjy8HO",
        "colab_type": "code",
        "colab": {
          "base_uri": "https://localhost:8080/",
          "height": 235
        },
        "outputId": "30d9c1cb-d828-4e68-ff2e-3dc8130759f9"
      },
      "source": [
        "print(X_test)"
      ],
      "execution_count": 8,
      "outputs": [
        {
          "output_type": "stream",
          "text": [
            "[[ 0.09234834 -0.94075066  1.03027844 ...  0.66157835 -0.07948937\n",
            "  -0.64713914]\n",
            " [-0.47399465 -0.94075066  0.65805499 ... -0.25773347  1.00975698\n",
            "  -0.64713914]\n",
            " [-1.41406651  0.5541707   0.79962716 ... -0.68523238 -0.08531421\n",
            "  -0.30198933]\n",
            " ...\n",
            " [ 0.68456486 -0.72719047  1.4040926  ... -0.35735711  0.47387108\n",
            "  -0.59191517]\n",
            " [ 0.21500807 -0.94075066 -0.83879232 ... -0.00426066  1.04470606\n",
            "   0.5539822 ]\n",
            " [ 0.43062089  0.66095079 -0.83879232 ... -0.48346298 -1.93761548\n",
            "   1.79652151]]\n"
          ],
          "name": "stdout"
        }
      ]
    },
    {
      "cell_type": "markdown",
      "metadata": {
        "id": "zIL71W_IzBt2",
        "colab_type": "text"
      },
      "source": [
        "# Evaluate Model"
      ]
    },
    {
      "cell_type": "code",
      "metadata": {
        "id": "qGYmlYwJzFJm",
        "colab_type": "code",
        "colab": {}
      },
      "source": [
        "from sklearn.metrics import r2_score\n",
        "from sklearn.model_selection import cross_val_score"
      ],
      "execution_count": 9,
      "outputs": []
    },
    {
      "cell_type": "code",
      "metadata": {
        "id": "PHdPA2KhzSxx",
        "colab_type": "code",
        "colab": {}
      },
      "source": [
        "cv=5 # CV value\n",
        "r_2 = [] # List for r 2 score\n",
        "CV = [] # list for CV scores mean\n",
        "def model(algorithm, X_train, y_train, X_test, y_test): \n",
        "  algorithm.fit(X_train, y_train)\n",
        "  predicts=algorithm.predict(X_test)\n",
        "  prediction=pd.DataFrame(predicts)\n",
        "  R_2=r2_score(y_test,prediction)\n",
        "  cross_val=cross_val_score(algorithm, X_train, y_train, cv=cv)\n",
        "  r_2.append(R_2)\n",
        "  CV.append(cross_val.mean())\n",
        "\n",
        "  #Printing results\n",
        "  print(algorithm,\"\\n\") \n",
        "  print(\"r_2 score :\",R_2,\"\\n\")\n",
        "  print(\"CV scores:\",cross_val,\"\\n\")\n",
        "  print(\"CV scores mean:\",cross_val.mean())"
      ],
      "execution_count": 10,
      "outputs": []
    },
    {
      "cell_type": "markdown",
      "metadata": {
        "id": "PKC1nCzhzYry",
        "colab_type": "text"
      },
      "source": [
        "# Linear Regression"
      ]
    },
    {
      "cell_type": "code",
      "metadata": {
        "id": "FfJfjvhZzcP4",
        "colab_type": "code",
        "colab": {
          "base_uri": "https://localhost:8080/",
          "height": 134
        },
        "outputId": "fada4a1b-4169-4d05-c28e-9716e0d51393"
      },
      "source": [
        "from sklearn.linear_model import LinearRegression\n",
        "lr = LinearRegression()\n",
        "model(lr, X_train, y_train, X_test, y_test)"
      ],
      "execution_count": 11,
      "outputs": [
        {
          "output_type": "stream",
          "text": [
            "LinearRegression(copy_X=True, fit_intercept=True, n_jobs=None, normalize=False) \n",
            "\n",
            "r_2 score : 0.5195367827180628 \n",
            "\n",
            "CV scores: [0.55856146 0.62893278 0.62778588 0.70882691 0.60230161] \n",
            "\n",
            "CV scores mean: 0.6252817311814759\n"
          ],
          "name": "stdout"
        }
      ]
    },
    {
      "cell_type": "markdown",
      "metadata": {
        "id": "zR4EWd0gzuca",
        "colab_type": "text"
      },
      "source": [
        "# Support Vector Regression"
      ]
    },
    {
      "cell_type": "code",
      "metadata": {
        "id": "QzcyBiiVzzcK",
        "colab_type": "code",
        "colab": {
          "base_uri": "https://localhost:8080/",
          "height": 151
        },
        "outputId": "6ca54faa-5387-42c2-b8b3-141272b895bc"
      },
      "source": [
        "from sklearn.svm import SVR\n",
        "svr = SVR(kernel = 'rbf')\n",
        "model(svr, X_train, y_train, X_test, y_test)"
      ],
      "execution_count": 12,
      "outputs": [
        {
          "output_type": "stream",
          "text": [
            "SVR(C=1.0, cache_size=200, coef0=0.0, degree=3, epsilon=0.1, gamma='scale',\n",
            "    kernel='rbf', max_iter=-1, shrinking=True, tol=0.001, verbose=False) \n",
            "\n",
            "r_2 score : 0.5751650119854721 \n",
            "\n",
            "CV scores: [0.59538095 0.6433634  0.58312432 0.67208056 0.61862629] \n",
            "\n",
            "CV scores mean: 0.6225151026133975\n"
          ],
          "name": "stdout"
        }
      ]
    },
    {
      "cell_type": "code",
      "metadata": {
        "id": "lqRkNFr_z_xW",
        "colab_type": "code",
        "colab": {
          "base_uri": "https://localhost:8080/",
          "height": 151
        },
        "outputId": "6592d64f-99a4-48ad-ba25-2b56c08ac59e"
      },
      "source": [
        "from sklearn.svm import SVR\n",
        "svr = SVR(kernel = 'poly')\n",
        "model(svr, X_train, y_train, X_test, y_test)"
      ],
      "execution_count": 13,
      "outputs": [
        {
          "output_type": "stream",
          "text": [
            "SVR(C=1.0, cache_size=200, coef0=0.0, degree=3, epsilon=0.1, gamma='scale',\n",
            "    kernel='poly', max_iter=-1, shrinking=True, tol=0.001, verbose=False) \n",
            "\n",
            "r_2 score : 0.4148076627902213 \n",
            "\n",
            "CV scores: [0.41822425 0.55913855 0.49213842 0.55121703 0.48606221] \n",
            "\n",
            "CV scores mean: 0.50135609396157\n"
          ],
          "name": "stdout"
        }
      ]
    },
    {
      "cell_type": "code",
      "metadata": {
        "id": "9581lfBX0LxW",
        "colab_type": "code",
        "colab": {
          "base_uri": "https://localhost:8080/",
          "height": 151
        },
        "outputId": "b21ab729-01ef-49bb-c18e-27fb026e6f06"
      },
      "source": [
        "from sklearn.svm import SVR\n",
        "svr = SVR(kernel = 'sigmoid')\n",
        "model(svr, X_train, y_train, X_test, y_test)"
      ],
      "execution_count": 14,
      "outputs": [
        {
          "output_type": "stream",
          "text": [
            "SVR(C=1.0, cache_size=200, coef0=0.0, degree=3, epsilon=0.1, gamma='scale',\n",
            "    kernel='sigmoid', max_iter=-1, shrinking=True, tol=0.001, verbose=False) \n",
            "\n",
            "r_2 score : 0.14882623142001628 \n",
            "\n",
            "CV scores: [0.25335314 0.35906356 0.39082911 0.48899521 0.38599834] \n",
            "\n",
            "CV scores mean: 0.37564787360260676\n"
          ],
          "name": "stdout"
        }
      ]
    },
    {
      "cell_type": "markdown",
      "metadata": {
        "id": "2tbzhnxK0Sst",
        "colab_type": "text"
      },
      "source": [
        "# Decision Tree Regression"
      ]
    },
    {
      "cell_type": "code",
      "metadata": {
        "id": "n2J25Ib50WTk",
        "colab_type": "code",
        "colab": {
          "base_uri": "https://localhost:8080/",
          "height": 218
        },
        "outputId": "8dc4f314-57eb-4941-93ce-73ffa36d946c"
      },
      "source": [
        "from sklearn.tree import DecisionTreeRegressor\n",
        "dtr = DecisionTreeRegressor(random_state = 0)\n",
        "model(dtr, X_train, y_train, X_test, y_test)"
      ],
      "execution_count": 15,
      "outputs": [
        {
          "output_type": "stream",
          "text": [
            "DecisionTreeRegressor(ccp_alpha=0.0, criterion='mse', max_depth=None,\n",
            "                      max_features=None, max_leaf_nodes=None,\n",
            "                      min_impurity_decrease=0.0, min_impurity_split=None,\n",
            "                      min_samples_leaf=1, min_samples_split=2,\n",
            "                      min_weight_fraction_leaf=0.0, presort='deprecated',\n",
            "                      random_state=0, splitter='best') \n",
            "\n",
            "r_2 score : 0.6681092828296844 \n",
            "\n",
            "CV scores: [0.77685142 0.82392653 0.85533784 0.7383673  0.75973922] \n",
            "\n",
            "CV scores mean: 0.7908444616513212\n"
          ],
          "name": "stdout"
        }
      ]
    },
    {
      "cell_type": "markdown",
      "metadata": {
        "id": "88XfbpJp0exb",
        "colab_type": "text"
      },
      "source": [
        "# Random forest Regression"
      ]
    },
    {
      "cell_type": "code",
      "metadata": {
        "id": "4xOcbGh40h1k",
        "colab_type": "code",
        "colab": {
          "base_uri": "https://localhost:8080/",
          "height": 235
        },
        "outputId": "31027c46-890f-4bd0-e43f-ab1eb5b48e23"
      },
      "source": [
        "from sklearn.ensemble import RandomForestRegressor\n",
        "rfr = RandomForestRegressor(n_estimators = 50, random_state = 0)\n",
        "model(rfr, X_train, y_train, X_test, y_test)"
      ],
      "execution_count": 16,
      "outputs": [
        {
          "output_type": "stream",
          "text": [
            "RandomForestRegressor(bootstrap=True, ccp_alpha=0.0, criterion='mse',\n",
            "                      max_depth=None, max_features='auto', max_leaf_nodes=None,\n",
            "                      max_samples=None, min_impurity_decrease=0.0,\n",
            "                      min_impurity_split=None, min_samples_leaf=1,\n",
            "                      min_samples_split=2, min_weight_fraction_leaf=0.0,\n",
            "                      n_estimators=50, n_jobs=None, oob_score=False,\n",
            "                      random_state=0, verbose=0, warm_start=False) \n",
            "\n",
            "r_2 score : 0.8106549164418796 \n",
            "\n",
            "CV scores: [0.88773233 0.92548876 0.89485883 0.912702   0.87128665] \n",
            "\n",
            "CV scores mean: 0.8984137161609705\n"
          ],
          "name": "stdout"
        }
      ]
    },
    {
      "cell_type": "markdown",
      "metadata": {
        "id": "v-LZtgFE0_8c",
        "colab_type": "text"
      },
      "source": [
        "# Max R2 value"
      ]
    },
    {
      "cell_type": "code",
      "metadata": {
        "id": "ZvDBhb1B1DI2",
        "colab_type": "code",
        "colab": {
          "base_uri": "https://localhost:8080/",
          "height": 50
        },
        "outputId": "47396028-ae1b-4827-83bc-c81464742d66"
      },
      "source": [
        "print(max(r_2))\n",
        "max_pos = r_2.index(max(r_2))\n",
        "print(max_pos)"
      ],
      "execution_count": 18,
      "outputs": [
        {
          "output_type": "stream",
          "text": [
            "0.8106549164418796\n",
            "5\n"
          ],
          "name": "stdout"
        }
      ]
    }
  ]
}